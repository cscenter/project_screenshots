{
 "cells": [
  {
   "cell_type": "code",
   "execution_count": 157,
   "metadata": {
    "collapsed": false,
    "deletable": true,
    "editable": true
   },
   "outputs": [],
   "source": [
    "import cv2\n",
    "import numpy as np\n",
    "from glob import glob\n",
    "from sklearn.cluster import MiniBatchKMeans\n",
    "from IPython.display import Image\n",
    "import matplotlib.pyplot as plt\n",
    "# %matplotlib inline"
   ]
  },
  {
   "cell_type": "code",
   "execution_count": 4,
   "metadata": {
    "collapsed": false,
    "deletable": true,
    "editable": true
   },
   "outputs": [
    {
     "name": "stdout",
     "output_type": "stream",
     "text": [
      "('got', 1712, 'files')\n"
     ]
    }
   ],
   "source": [
    "filenames = [x for x in glob(\"../../data/fullpage_3k/image/*.png\")]\n",
    "print(\"got\", len(filenames), \"files\")"
   ]
  },
  {
   "cell_type": "code",
   "execution_count": 194,
   "metadata": {
    "collapsed": false,
    "deletable": true,
    "editable": true
   },
   "outputs": [
    {
     "name": "stdout",
     "output_type": "stream",
     "text": [
      "0\n",
      "25\n",
      "50\n",
      "75\n",
      "100\n",
      "125\n",
      "150\n",
      "175\n",
      "200\n",
      "225\n",
      "250\n",
      "275\n",
      "300\n",
      "325\n",
      "350\n",
      "375\n",
      "400\n",
      "425\n",
      "450\n",
      "475\n",
      "500\n",
      "525\n",
      "550\n",
      "575\n",
      "600\n",
      "625\n",
      "650\n",
      "675\n",
      "700\n",
      "725\n",
      "750\n",
      "775\n",
      "800\n",
      "825\n",
      "850\n",
      "875\n",
      "900\n",
      "925\n",
      "950\n",
      "975\n",
      "1000\n",
      "1025\n",
      "1050\n",
      "1075\n",
      "1100\n",
      "1125\n",
      "1150\n",
      "1175\n",
      "1200\n",
      "1225\n",
      "1250\n",
      "1275\n",
      "1300\n",
      "1325\n",
      "1350\n",
      "1375\n",
      "1400\n",
      "1425\n",
      "1450\n",
      "1475\n",
      "1500\n",
      "1525\n",
      "1550\n",
      "1575\n",
      "1600\n",
      "1625\n",
      "1650\n",
      "1675\n",
      "1700\n",
      "(1712, 90)\n"
     ]
    },
    {
     "data": {
      "image/png": "[encoded data removed]",
      "text/plain": [
       "<Figure size 432x288 with 1 Axes>"
      ]
     },
     "metadata": {},
     "output_type": "display_data"
    }
   ],
   "source": [
    "histograms = []\n",
    "spectre = []\n",
    "avg_screenshot = np.zeros((500, 200, 3), np.uint64)\n",
    "N = 3000\n",
    "for i, filename in enumerate(filenames[:N]):\n",
    "    if i % 25 == 0:\n",
    "        print(i)\n",
    "    img_bgr = cv2.imread(filename, cv2.IMREAD_COLOR)\n",
    "    img = cv2.cvtColor(img_bgr, cv2.COLOR_BGR2HSV)\n",
    "    hist3 = np.hstack([hist.astype(np.float64) / np.sum(hist) for hist, bins in [np.histogram(img[..., c].ravel(), 30, [0,256]) for c in range(3)]])\n",
    "    histograms.append(hist3)\n",
    "    \n",
    "    small_img = cv2.resize(img, (200, 500))\n",
    "    avg_screenshot += small_img\n",
    "    img = cv2.cvtColor(img_bgr, cv2.COLOR_BGR2GRAY)\n",
    "    img = cv2.resize(img, (400, 400))\n",
    "    spectrum = np.fft.fft2(img)\n",
    "    fshift = np.fft.fftshift(spectrum)\n",
    "    magnitude_spectrum = np.log(np.abs(fshift))\n",
    "    spectre.append(magnitude_spectrum)\n",
    "    \n",
    "    \n",
    "    \n",
    "avg_screenshot = (avg_screenshot / N).astype(np.uint8)\n",
    "plt.imshow(avg_screenshot)\n",
    "avg_screenshot = cv2.cvtColor(avg_screenshot, cv2.COLOR_HSV2BGR)\n",
    "cv2.imwrite(\"mean_screenshot.jpg\", avg_screenshot)\n",
    "\n",
    "histograms = np.vstack(histograms)\n",
    "spectre = np.dstack(spectre)\n",
    "print(histograms.shape)"
   ]
  },
  {
   "cell_type": "code",
   "execution_count": 137,
   "metadata": {
    "collapsed": false
   },
   "outputs": [
    {
     "name": "stdout",
     "output_type": "stream",
     "text": [
      "5645.188289972586\n"
     ]
    },
    {
     "data": {
      "image/png": "[encoded data removed]",
      "text/plain": [
       "<Figure size 432x288 with 1 Axes>"
      ]
     },
     "metadata": {},
     "output_type": "display_data"
    }
   ],
   "source": [
    "sd = np.std(spectre, axis=2)\n",
    "sd[sd > np.percentile(sd, 5)] = 0\n",
    "sd[sd > 0] = 1\n",
    "plt.imshow(sd)\n",
    "sp0 = spectre[..., 0]\n",
    "sp1 = spectre[..., 1]\n",
    "spdiff = np.abs(sp0 - sp1)\n",
    "spdiff[sd < 1] = 0"
   ]
  },
  {
   "cell_type": "code",
   "execution_count": 202,
   "metadata": {
    "collapsed": false
   },
   "outputs": [
    {
     "name": "stdout",
     "output_type": "stream",
     "text": [
      "827.6974107478351\n"
     ]
    },
    {
     "data": {
      "image/png": "[encoded data removed]",
      "text/plain": [
       "<Figure size 432x288 with 1 Axes>"
      ]
     },
     "metadata": {},
     "output_type": "display_data"
    }
   ],
   "source": [
    "mean_spectre = np.median(spectre, axis=2)\n",
    "sd = np.std(spectre - np.tile(mean_spectre[:, :, np.newaxis], (1, 1, spectre.shape[2])), axis=2)\n",
    "sd[sd > np.percentile(sd, 1)] = 0\n",
    "sd[sd > 0] = 1\n",
    "sd = sd.astype(np.uint8)\n",
    "# plt.imshow(sd)\n",
    "diffs = []\n",
    "for sp in np.rollaxis(spectre, 2):\n",
    "    spdiff = np.abs(sp - mean_spectre)\n",
    "    spdiff[sd == 0] = 0\n",
    "    diffs.append(spdiff.sum())\n",
    "diffs = np.array(diffs)\n",
    "plt.hist(diffs)\n",
    "print(np.max(diffs))\n",
    "np.save(\"avg_spectre.npy\", mean_spectre)\n",
    "np.save(\"spectre_indices.npy\", sd)"
   ]
  },
  {
   "cell_type": "code",
   "execution_count": 63,
   "metadata": {
    "collapsed": false
   },
   "outputs": [
    {
     "data": {
      "text/plain": [
       "True"
      ]
     },
     "execution_count": 63,
     "metadata": {},
     "output_type": "execute_result"
    },
    {
     "data": {
      "image/png": "[encoded data removed]",
      "text/plain": [
       "<Figure size 432x288 with 1 Axes>"
      ]
     },
     "metadata": {},
     "output_type": "display_data"
    }
   ],
   "source": [
    "img = cv2.imread(filenames[0], cv2.IMREAD_COLOR)\n",
    "img = cv2.resize(img, (200, 500))\n",
    "img = cv2.absdiff(avg_screenshot, img)\n",
    "img[img < 200] = 0\n",
    "plt.imshow(img)\n",
    "cv2.imwrite(\"diff.jpg\", img)"
   ]
  },
  {
   "cell_type": "code",
   "execution_count": 163,
   "metadata": {
    "collapsed": false
   },
   "outputs": [
    {
     "name": "stdout",
     "output_type": "stream",
     "text": [
      "8333.274147036731\n"
     ]
    },
    {
     "data": {
      "image/png": "[encoded data removed]",
      "text/plain": [
       "<Figure size 432x288 with 1 Axes>"
      ]
     },
     "metadata": {},
     "output_type": "display_data"
    }
   ],
   "source": [
    "img = cv2.imread(\"img.png\", cv2.IMREAD_GRAYSCALE)\n",
    "img = 250 * np.random.rand(200, 200)\n",
    "img = cv2.resize(img, (100, 100))\n",
    "spectrum = np.fft.fft2(img)\n",
    "fshift = np.fft.fftshift(spectrum)\n",
    "magnitude_spectrum = 20*np.log(np.abs(fshift))\n",
    "plt.imshow(magnitude_spectrum)\n",
    "spdiff = np.abs(magnitude_spectrum - mean_spectre)\n",
    "spdiff[sd < 1] = 0\n",
    "print(spdiff.sum())\n",
    "# cv2.imwrite(\"spec.jpg\", magnitude_spectrum.astype(np.uint8))"
   ]
  },
  {
   "cell_type": "code",
   "execution_count": 203,
   "metadata": {
    "collapsed": false
   },
   "outputs": [
    {
     "name": "stdout",
     "output_type": "stream",
     "text": [
      "921.1170170859815\n"
     ]
    }
   ],
   "source": [
    "# img = cv2.imread(\"/home/me/code/screenshots/repo/data/broken_imgs/good/https___yandex.ru_search_?text=mylittleponny.png\", cv2.IMREAD_GRAYSCALE)\n",
    "img = cv2.imread(\"yandex.png\", cv2.IMREAD_GRAYSCALE)\n",
    "# img = img[:, 0:img.shape[1] // 2]\n",
    "# img = cv2.resize(img, (img.shape[1] * 2, img.shape[0]))\n",
    "# img[img.shape[0] - 2500:, :] = 0\n",
    "# cv2.imwrite(\"bad_im.png\", img)\n",
    "img = cv2.resize(img, (400, 400))\n",
    "spectrum = np.fft.fft2(img)\n",
    "fshift = np.fft.fftshift(spectrum)\n",
    "magnitude_spectrum = np.log(np.abs(fshift))\n",
    "spdiff = np.abs(magnitude_spectrum - mean_spectre)\n",
    "spdiff[sd < 1] = 0\n",
    "print(spdiff.sum())\n"
   ]
  },
  {
   "cell_type": "code",
   "execution_count": null,
   "metadata": {
    "collapsed": true
   },
   "outputs": [],
   "source": [
    "img = cv2.imread(filenames[0], cv2.IMREAD_COLOR)\n",
    "img = cv2.resize(img, (200, 500))\n",
    "img = cv2.absdiff(avg_screenshot, img)\n",
    "img[img < 200] = 0\n",
    "plt.imshow(img)\n",
    "cv2.imwrite(\"diff.jpg\", img)"
   ]
  },
  {
   "cell_type": "code",
   "execution_count": 29,
   "metadata": {
    "collapsed": false,
    "deletable": true,
    "editable": true
   },
   "outputs": [
    {
     "name": "stdout",
     "output_type": "stream",
     "text": [
      "[ 1  2  3  4  5  6  7  8  9 10 11 12 14 15 16 17 18 19 20 21 22 23 24 25\n",
      " 26 27 28 29 31 32 33 34 35 36 37 38 39 40 41 42 43 44 45 46 47 48 49 50\n",
      " 51 52 53 54 55 56 57 58 59 60 61 62 63 64 65 66 67 68 70 71 72 73 74 75\n",
      " 76 77 78 79 80 81 82 83 84 85 86 87 88]\n",
      "0.0006680334190692851\n",
      "0.0009001417412433414\n",
      "0.00018329429236125892\n",
      "7.393976991251666e-05\n",
      "0.0003459767983723614\n",
      "0.0003155335936068251\n",
      "0.000139287572753549\n",
      "6.054242333570005e-05\n",
      "0.0006613015671006789\n",
      "0.00040922153397968553\n",
      "9.42170536326162e-05\n",
      "0.0009276726594136025\n",
      "0.0004634358866705772\n",
      "0.0011259652452143983\n",
      "4.775247882533433e-05\n",
      "0.00017580434234930334\n",
      "0.0005384139586901096\n",
      "0.0003123946565769223\n",
      "0.00019325019094512395\n",
      "0.0010061700432086066\n",
      "0.00044452706506488063\n",
      "0.0004222804233378876\n",
      "5.470505614218713e-05\n",
      "9.16672189162464e-05\n",
      "0.0013771863213967875\n",
      "0.00047942382571266435\n",
      "7.072516087933794e-05\n",
      "0.002563168710397103\n",
      "0.000617474524275483\n",
      "0.00034076930789027105\n",
      "0.0002680345314932811\n",
      "0.000317377321757035\n",
      "0.0021347689608814373\n",
      "9.803772584844676e-05\n",
      "0.0010880476634369696\n",
      "0.0009918108081065403\n",
      "0.0009901280409887415\n",
      "0.0004604400207028053\n",
      "0.0006576377504725164\n",
      "0.00048070460460950714\n",
      "0.0001429168028027683\n",
      "0.00027172365044789615\n",
      "0.00027740005198569143\n",
      "0.0004601570744889573\n",
      "0.0004082613103655995\n",
      "0.0005687642656897712\n",
      "0.00016821833843721449\n",
      "8.488999849451487e-05\n",
      "0.00014405177451381004\n",
      "0.0004697059720211666\n",
      "0.0003066576493465619\n",
      "0.0010371348157282407\n",
      "0.00032679913006473824\n",
      "8.366933309641703e-05\n",
      "0.00042336024746100607\n",
      "0.0011357669167793094\n",
      "0.00011553761871695739\n",
      "0.00010070518770394651\n",
      "0.00014931129841333368\n",
      "8.047857224348107e-05\n",
      "0.00012338461505061865\n",
      "0.00047717055710065734\n",
      "0.00011161010315179957\n",
      "0.00024764303857752423\n",
      "0.0001203360304553121\n",
      "0.00018448046819716818\n",
      "0.00014570561978761407\n",
      "0.0004330788466795834\n",
      "0.0005859260060302109\n",
      "0.001090490387734649\n",
      "0.0009474162260795346\n",
      "0.00011362559652254304\n",
      "0.0004143149418004244\n",
      "0.0004459813886285453\n",
      "0.0005733939579900256\n",
      "0.00028159040722766003\n",
      "0.000122039778636506\n",
      "0.00012054707746657537\n",
      "0.000194670297836069\n",
      "0.00014080311598245796\n",
      "0.0001377886682239915\n",
      "0.0003733162677396714\n",
      "0.0014408915987081062\n",
      "0.00030516648455734797\n",
      "0.00015268903776753903\n",
      "0.0005530132106763319\n",
      "0.00010539475913178563\n",
      "0.00033777388473595006\n",
      "0.0004179354798815284\n",
      "7.468271305401677e-05\n",
      "0.00019179907297781141\n",
      "0.0006257087950016829\n",
      "0.0003995361562219402\n",
      "7.965551404179189e-05\n",
      "0.00035643730441612824\n",
      "0.00047140240890634764\n",
      "0.0004231700442722496\n",
      "0.00030651518607615713\n",
      "0.00033986157182753693\n",
      "0.0007469182102827885\n",
      "0.0013307604728720155\n",
      "0.00013042957280593958\n",
      "0.0004397876970106664\n",
      "0.00043478513629220206\n",
      "0.0005826875165535419\n",
      "0.00044457585964892345\n",
      "0.0004360741021827425\n",
      "0.00023581180211982135\n",
      "0.000847757195627657\n",
      "7.002823575229528e-05\n",
      "0.0003337673802603562\n",
      "0.00036339165419198896\n",
      "0.0009913007290085047\n",
      "0.00011819955558929001\n",
      "0.0001854103442328707\n",
      "8.990827723440569e-05\n",
      "8.721159800895955e-05\n",
      "0.00013196153208819587\n",
      "0.0005835150397051974\n",
      "0.0009761174400736094\n",
      "0.0004465569284592711\n",
      "9.819671581625884e-05\n",
      "8.254419714366877e-05\n",
      "0.00013387145949542034\n",
      "0.00047546574419281404\n",
      "0.0005806133117739966\n",
      "0.0005958884825171397\n",
      "0.0010454934242837396\n",
      "0.00029806216317993835\n",
      "9.396840263254471e-05\n",
      "0.0008317431804762465\n",
      "0.0007485012755785642\n",
      "8.809093984859326e-05\n",
      "0.00030287284539398435\n",
      "0.0008005714577277935\n",
      "0.0014260929865375048\n",
      "0.0009467759721328834\n",
      "0.0002500875077744119\n",
      "5.422285122187433e-05\n",
      "0.000596247745809518\n",
      "0.0003678924254751609\n",
      "0.0012790452596094465\n",
      "4.375920186782794e-05\n",
      "0.0003297941434559485\n",
      "0.00186648464274478\n",
      "0.0012773070815668035\n",
      "0.0008881784632660855\n",
      "0.00100133607046563\n",
      "0.001285973485038771\n",
      "0.0002563611833788211\n",
      "0.00012526127636224515\n",
      "0.00047729012278372064\n",
      "0.0001022663299180729\n",
      "0.00030118432498647655\n",
      "0.00045955889987483604\n",
      "7.490932878344437e-05\n",
      "0.0004921288788371205\n",
      "0.00042492142392753964\n",
      "0.0005707025678149066\n",
      "0.0012999981575398415\n",
      "0.0005592303115652938\n",
      "0.0009434235582395581\n",
      "0.00027926685773104593\n",
      "0.00011585331598615635\n",
      "8.709728390789453e-05\n",
      "0.0008129693968309045\n",
      "9.249025758838911e-05\n",
      "0.00010733151098344895\n",
      "6.467217530292413e-05\n",
      "0.00019338596632842615\n",
      "0.0001420130891486359\n",
      "0.0006507895979725026\n",
      "9.437526332749511e-05\n",
      "0.00013767835632505718\n",
      "9.19616850148288e-05\n",
      "0.00012247231090997256\n",
      "0.0001376254282182574\n",
      "0.00023828001033191393\n",
      "0.0009650249735106845\n",
      "0.0001449533187396462\n",
      "0.000117548104571049\n",
      "0.0004121262019408419\n",
      "0.0008326878636216157\n",
      "0.00029497154450806466\n",
      "6.53755309835664e-05\n",
      "0.0003638187145656137\n",
      "0.00038424451841192\n",
      "0.00030277230800723883\n",
      "0.00010815615780104248\n",
      "0.0010549870723843711\n",
      "6.488930016452156e-05\n",
      "0.0002568703990289387\n",
      "0.0007467761368623576\n",
      "6.359066102524511e-05\n",
      "0.0011244142452481072\n",
      "0.0005063768304972596\n",
      "0.00013840337232776668\n",
      "0.0006040162997881037\n",
      "0.0005746942299892863\n",
      "0.0007174027708376979\n",
      "0.00045258092275456607\n",
      "0.0003613115180919643\n",
      "0.0004303106047671299\n",
      "0.0010297702133691955\n",
      "0.0002597006800049762\n",
      "0.00010901512381305712\n",
      "0.0004323850455691812\n",
      "0.0001950803530689031\n",
      "0.0004485745018949416\n",
      "0.0011441905701276762\n",
      "0.0001097851146400272\n",
      "7.583157294621989e-05\n",
      "9.626177434406651e-05\n",
      "0.00011331538747219251\n",
      "0.0008755869044850814\n",
      "8.884308225602955e-05\n",
      "8.033825610646175e-05\n",
      "0.000800176933873464\n",
      "0.00019898471220838627\n",
      "0.0006944918236100696\n",
      "9.661688416461992e-05\n",
      "0.0003926507367668915\n",
      "8.826519365065478e-05\n",
      "0.0007024848430683728\n",
      "0.0003857202402730181\n",
      "9.395542812328406e-05\n",
      "0.0005575523684042583\n",
      "9.436422456543625e-05\n",
      "0.0006104959554777395\n",
      "0.00038752824189528537\n",
      "8.704718125833258e-05\n",
      "0.0019912716286404498\n",
      "0.00040294021447102483\n",
      "0.002326264483279207\n",
      "0.0010481923105929438\n",
      "6.842066917892569e-05\n",
      "0.00043182191406390804\n",
      "0.00020011313429420632\n",
      "0.0003731045979308784\n",
      "0.00025924248350694273\n",
      "0.0004816572139245529\n",
      "0.0004330017700053206\n",
      "0.0004128093219545715\n",
      "0.0009748323853392636\n",
      "0.00012103386444010491\n",
      "0.00015731603465595157\n",
      "0.0003514943674228018\n",
      "0.0008029727187733326\n",
      "0.0001228625736759461\n",
      "0.0012140866359861794\n",
      "0.0022954714959149067\n",
      "0.00038436702743720397\n",
      "0.0010298631700944804\n",
      "0.0006625930391351279\n",
      "0.00046459132169880094\n",
      "0.0006561148997811088\n",
      "0.001235825887712892\n",
      "0.0007655501361702087\n",
      "0.00033413373712765603\n",
      "9.397307050633187e-05\n",
      "0.00026589643769356835\n",
      "0.0003309912107346053\n",
      "9.424033001931344e-05\n",
      "0.0004108816654165506\n",
      "0.0002602961253770625\n",
      "0.00039879123504743563\n",
      "0.00037179468366420337\n",
      "0.00011859637768305448\n",
      "0.001193366994349283\n",
      "0.0006226345612235006\n",
      "0.0003860168366730791\n",
      "9.134775178203904e-05\n",
      "0.000414263151570462\n",
      "0.0005040874988256166\n",
      "0.0004929145876782362\n",
      "0.001548225649978456\n",
      "0.00011209769105305916\n",
      "0.0004305963773748633\n",
      "0.0004825534539202486\n",
      "0.00012678944485126624\n",
      "0.0007927279653872508\n",
      "0.0015455289915405545\n",
      "0.0009445296460378538\n",
      "8.14525020808094e-05\n",
      "0.00011346510259695254\n",
      "0.001117387817934418\n",
      "0.0003889105359775367\n",
      "0.0014210136512219204\n",
      "0.0002464689497049175\n",
      "0.0004592930861407149\n",
      "0.0010880384582987897\n",
      "7.107489868004054e-05\n",
      "0.00029893908031847617\n",
      "0.0003789416892078044\n",
      "9.69074105839573e-05\n",
      "0.00013243854453320541\n",
      "0.00010437391087476935\n",
      "0.00043086159033095913\n",
      "0.0003844239425605101\n",
      "0.0011504140521211735\n",
      "9.393867839459424e-05\n",
      "8.81610836414737e-05\n",
      "0.00035963149960577934\n",
      "0.0007772261076378448\n",
      "0.00038289990392785094\n",
      "7.553332398578258e-05\n",
      "0.00042987225481897417\n",
      "0.00025802440479430244\n",
      "0.0004756331566298518\n",
      "0.0004628830147968701\n",
      "7.149971682255311e-05\n",
      "0.00046008509689950046\n",
      "0.00011235364217633675\n",
      "5.831259072036841e-05\n",
      "0.0002874593929291792\n",
      "0.00026758308475835377\n",
      "0.0003107452765325209\n",
      "0.00014345587217515194\n",
      "0.0006573242384948024\n",
      "0.0006816232641330282\n",
      "0.0008110550059240824\n",
      "0.0010163043498853917\n",
      "0.00045298647194728383\n",
      "0.002255228479435212\n",
      "0.00012759562189277725\n",
      "0.00012959237723945188\n",
      "0.0004777045872400036\n",
      "0.000598493609106944\n",
      "0.0005633081233798471\n",
      "0.000740155808433915\n",
      "0.00013432808365382743\n",
      "0.00043184096640233274\n",
      "0.000405642461325879\n",
      "5.1220552274798824e-05\n",
      "7.159991006445223e-05\n",
      "7.119574972989058e-05\n",
      "0.00018033014191470268\n",
      "0.0003106113448043573\n",
      "0.0005628885203103672\n",
      "0.0001618448731685133\n",
      "0.0012355007809899629\n",
      "0.0006049962705674697\n",
      "0.00042212704419421877\n",
      "0.0014286282929996388\n",
      "7.295287196218447e-05\n",
      "0.0003835755214600723\n",
      "0.0001642294692320771\n",
      "7.366870297422667e-05\n",
      "0.0002611683593459356\n",
      "4.7357395843810056e-05\n",
      "0.0007033562113089012\n",
      "4.280339539566439e-05\n",
      "0.0005091830081307954\n",
      "0.0004999006071457414\n",
      "0.0003498547117972546\n",
      "0.000501123169125907\n",
      "0.0006741509162533348\n",
      "0.00031822902504507176\n",
      "0.00029966132224346895\n",
      "0.0011976440462910642\n",
      "0.00033255564612316447\n",
      "9.303612523438191e-05\n",
      "0.0003554756060870108\n",
      "0.00037867231731727243\n",
      "0.00039061733247993356\n",
      "0.00040474752957029496\n",
      "0.0006892869130595378\n",
      "0.00013075221544552282\n",
      "0.0005015458723458876\n",
      "5.946979128087495e-05\n",
      "0.0010631179750468654\n",
      "0.00023550577933259916\n",
      "0.0004245736491676787\n",
      "0.0003551930844927736\n",
      "0.0004470233489432883\n",
      "0.0003696791510295786\n",
      "0.00015273010336811594\n",
      "0.0010694461800219801\n",
      "5.8796660769336786e-05\n",
      "0.001172064183758172\n",
      "0.0010480080792227057\n",
      "0.0004146620462372435\n",
      "8.054434947744325e-05\n",
      "0.0013485681457959392\n",
      "0.0005923532917551749\n",
      "0.00012388204956015686\n",
      "0.000618491635060747\n",
      "0.001648325691227281\n",
      "0.00016717707957563126\n",
      "0.0003287405712342934\n",
      "0.0017623570462086562\n",
      "0.00031304668445447225\n",
      "0.00011310981404658497\n",
      "0.00033672890099250825\n",
      "0.0012046946215360432\n",
      "7.254976496330796e-05\n",
      "8.121144030704842e-05\n",
      "0.0007423827885650273\n",
      "0.0006800991379741835\n",
      "0.000575784726079144\n"
     ]
    }
   ],
   "source": [
    "avg_hist = np.median(histograms, axis=0)\n",
    "diff = np.abs(histograms - np.tile(avg_hist, (histograms.shape[0], 1)))\n",
    "avg_diff = np.median(diff, axis=0)\n",
    "percentile = 95\n",
    "not_features = np.where(avg_diff > np.percentile(avg_diff, percentile) + 1e-6)[0]\n",
    "print(np.where(avg_diff <= np.percentile(avg_diff, percentile) + 1e-6)[0])\n",
    "diff[:, not_features] = 0\n",
    "for i, diff_row in enumerate(diff):\n",
    "    dist = np.dot(diff_row, diff_row)\n",
    "    print(dist)"
   ]
  },
  {
   "cell_type": "code",
   "execution_count": 38,
   "metadata": {
    "collapsed": false,
    "deletable": true,
    "editable": true
   },
   "outputs": [],
   "source": [
    "kmeans = MiniBatchKMeans(200)\n",
    "labels = kmeans.fit_predict(histograms)\n",
    "centroids = kmeans.cluster_centers_"
   ]
  },
  {
   "cell_type": "code",
   "execution_count": 39,
   "metadata": {
    "collapsed": false
   },
   "outputs": [
    {
     "name": "stdout",
     "output_type": "stream",
     "text": [
      "0.0002982471850265566\n"
     ]
    }
   ],
   "source": [
    "def find_min_dist(hist, avg_hists):\n",
    "    min_dist = 1e7\n",
    "    for c in avg_hists:\n",
    "        diff = hist - c\n",
    "        diff[not_features] = 0\n",
    "        dist = np.dot(diff, diff)\n",
    "        if dist < min_dist:\n",
    "            min_dist = dist\n",
    "    return min_dist\n",
    "\n",
    "max_dist = -1e7\n",
    "for hist in histograms:\n",
    "    dist = find_min_dist(hist, centroids)\n",
    "    if dist > max_dist:\n",
    "        max_dist= dist\n",
    "print(max_dist)"
   ]
  },
  {
   "cell_type": "code",
   "execution_count": 44,
   "metadata": {
    "collapsed": false,
    "deletable": true,
    "editable": true
   },
   "outputs": [
    {
     "name": "stdout",
     "output_type": "stream",
     "text": [
      "1.9855913111467944\n"
     ]
    }
   ],
   "source": [
    "img = 255 * np.ones((500, 500, 3), np.uint8)\n",
    "img[..., 0] = 100\n",
    "img = cv2.cvtColor(img, cv2.COLOR_BGR2HSV)\n",
    "hist3 = np.hstack([hist.astype(np.float64) / np.sum(hist) for hist, bins in [np.histogram(img[..., c].ravel(), 30, [0,256]) for c in range(3)]])\n",
    "dist = find_min_dist(hist3, centroids)\n",
    "print(dist)"
   ]
  }
 ],
 "metadata": {
  "kernelspec": {
   "display_name": "Python 2",
   "language": "python",
   "name": "python2"
  },
  "language_info": {
   "codemirror_mode": {
    "name": "ipython",
    "version": 2
   },
   "file_extension": ".py",
   "mimetype": "text/x-python",
   "name": "python",
   "nbconvert_exporter": "python",
   "pygments_lexer": "ipython2",
   "version": "2.7.12"
  }
 },
 "nbformat": 4,
 "nbformat_minor": 0
}
