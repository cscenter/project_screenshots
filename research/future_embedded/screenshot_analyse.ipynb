{
 "cells": [
  {
   "cell_type": "markdown",
   "metadata": {
    "colab_type": "text",
    "id": "7Z2jcRKwUHqV"
   },
   "source": [
    "## Начало работы со скриншотами"
   ]
  },
  {
   "cell_type": "code",
   "execution_count": 2,
   "metadata": {
    "colab": {
     "autoexec": {
      "startup": false,
      "wait_interval": 0
     },
     "base_uri": "https://localhost:8080/",
     "height": 34,
     "output_extras": [
      {
       "item_id": 1
      }
     ]
    },
    "colab_type": "code",
    "executionInfo": {
     "elapsed": 3939,
     "status": "ok",
     "timestamp": 1521796242948,
     "user": {
      "displayName": "",
      "photoUrl": "",
      "userId": ""
     },
     "user_tz": -180
    },
    "id": "vRrYFVGrqwLK",
    "outputId": "36e90814-5e59-451b-f125-c75f601544cf"
   },
   "outputs": [
    {
     "name": "stderr",
     "output_type": "stream",
     "text": [
      "Using TensorFlow backend.\n"
     ]
    }
   ],
   "source": [
    "from os import listdir\n",
    "import cv2\n",
    "import numpy as np\n",
    "from keras.layers import Input, Dense, Conv2D, MaxPooling2D, UpSampling2D,Flatten,Reshape\n",
    "from keras.models import Model\n",
    "from keras import backend as K\n",
    "from keras.callbacks import ModelCheckpoint\n",
    "import matplotlib.pyplot as plt\n",
    "from sklearn.manifold import TSNE"
   ]
  },
  {
   "cell_type": "code",
   "execution_count": 3,
   "metadata": {
    "colab": {
     "autoexec": {
      "startup": false,
      "wait_interval": 0
     },
     "base_uri": "https://localhost:8080/",
     "height": 17,
     "output_extras": []
    },
    "colab_type": "code",
    "collapsed": true,
    "executionInfo": {
     "elapsed": 5726,
     "status": "ok",
     "timestamp": 1521796250575,
     "user": {
      "displayName": "",
      "photoUrl": "",
      "userId": ""
     },
     "user_tz": -180
    },
    "id": "EOpU4Vkyq7xD",
    "outputId": "4b7ac847-8f33-4981-cf87-22cd95873214"
   },
   "outputs": [],
   "source": [
    "path_to_images = \"image/\"\n",
    "list_img_name = []\n",
    "\n",
    "for img_name in listdir(path_to_images):\n",
    "    if img_name.endswith('.png'):\n",
    "        list_img_name.append(img_name)"
   ]
  },
  {
   "cell_type": "code",
   "execution_count": null,
   "metadata": {
    "collapsed": true
   },
   "outputs": [],
   "source": [
    "N_img = len(list_img_name)\n",
    "data_img = np.empty((N_img, 352, 152, 3))\n",
    "\n",
    "for i, img_name in enumerate(list_img_name):\n",
    "    data_img[i,:,:,:] = cv2.resize(cv2.imread(path_to_images+img_name), (152, 352))\n",
    "\n",
    "data_img/=255\n",
    "\n",
    "X_test = data_img[80:,:,:,:]\n",
    "X_train = data_img[:80,:,:,:]"
   ]
  },
  {
   "cell_type": "code",
   "execution_count": 4,
   "metadata": {
    "colab": {
     "autoexec": {
      "startup": false,
      "wait_interval": 0
     },
     "base_uri": "https://localhost:8080/",
     "height": 350,
     "output_extras": [
      {
       "item_id": 1
      }
     ]
    },
    "colab_type": "code",
    "executionInfo": {
     "elapsed": 701,
     "status": "ok",
     "timestamp": 1521796253176,
     "user": {
      "displayName": "",
      "photoUrl": "",
      "userId": ""
     },
     "user_tz": -180
    },
    "id": "8tDft-FauO9W",
    "outputId": "7daaf283-075f-43ba-95e9-1e164d9d9162"
   },
   "outputs": [
    {
     "data": {
      "image/png": "[encoded data removed]",
      "text/plain": [
       "<matplotlib.figure.Figure at 0x7fd824b57940>"
      ]
     },
     "metadata": {
      "tags": []
     },
     "output_type": "display_data"
    }
   ],
   "source": [
    "plt.axis(\"off\")\n",
    "plt.imshow(X_train[0])\n",
    "plt.show()"
   ]
  },
  {
   "cell_type": "code",
   "execution_count": 14,
   "metadata": {
    "colab": {
     "autoexec": {
      "startup": false,
      "wait_interval": 0
     },
     "base_uri": "https://localhost:8080/",
     "height": 17,
     "output_extras": []
    },
    "colab_type": "code",
    "collapsed": true,
    "executionInfo": {
     "elapsed": 688,
     "status": "ok",
     "timestamp": 1521801351083,
     "user": {
      "displayName": "",
      "photoUrl": "",
      "userId": ""
     },
     "user_tz": -180
    },
    "id": "qbYiI7_Zpe2h",
    "outputId": "8920e23f-feb4-4bb5-a828-b211c6aaf9ab"
   },
   "outputs": [],
   "source": [
    "input_img = Input(shape=(352, 152, 3))  # adapt this if using `channels_first` image data format\n",
    "drop_prob_1 = 0.5\n",
    "\n",
    "x = Conv2D(16, (7, 7), activation='relu', padding='same')(input_img)\n",
    "x = Conv2D(16, (7, 7), activation='relu', padding='same')(x)\n",
    "x = MaxPooling2D((2, 2), padding='same')(x)\n",
    "\n",
    "x = Conv2D(32, (5, 5), activation='relu', padding='same')(x)\n",
    "x = Conv2D(32, (5, 5), activation='relu', padding='same')(x)\n",
    "x = MaxPooling2D((2, 2), padding='same')(x)\n",
    "\n",
    "x = Conv2D(32, (3, 3), activation='relu', padding='same')(x)\n",
    "x = Conv2D(32, (3, 3), activation='relu', padding='same')(x)\n",
    "\n",
    "x = Flatten()(x)\n",
    "x = Dense(1000, activation='relu')(x)\n",
    "\n",
    "encoded = Dense(300, activation='relu')(x)\n",
    "\n",
    "x = Dense(1000, activation='relu')(encoded)\n",
    "x = Dense(88*38*3, activation='relu')(encoded)\n",
    "\n",
    "\n",
    "x = Reshape((88,38,3))(x)\n",
    "x = Conv2D(32, (3, 3), activation='relu', padding='same')(x)\n",
    "x = Conv2D(32, (3, 3), activation='relu', padding='same')(x)\n",
    "\n",
    "x = UpSampling2D((2, 2))(x)\n",
    "\n",
    "x = Conv2D(32, (5, 5), activation='relu', padding='same')(x)\n",
    "x = Conv2D(32, (5, 5), activation='relu', padding='same')(x)\n",
    "\n",
    "x = UpSampling2D((2, 2))(x)\n",
    "\n",
    "x = Conv2D(16, (7, 7), activation='relu', padding='same')(x)\n",
    "decoded = Conv2D(3, (7, 7), activation='sigmoid', padding='same')(x)\n",
    "\n",
    "autoencoder = Model(input_img, decoded)\n",
    "autoencoder.compile(optimizer='adadelta', loss='binary_crossentropy')"
   ]
  },
  {
   "cell_type": "code",
   "execution_count": 15,
   "metadata": {
    "colab": {
     "autoexec": {
      "startup": false,
      "wait_interval": 0
     },
     "base_uri": "https://localhost:8080/",
     "height": 731,
     "output_extras": [
      {
       "item_id": 56
      },
      {
       "item_id": 57
      }
     ]
    },
    "colab_type": "code",
    "executionInfo": {
     "elapsed": 1223798,
     "status": "ok",
     "timestamp": 1521802578899,
     "user": {
      "displayName": "",
      "photoUrl": "",
      "userId": ""
     },
     "user_tz": -180
    },
    "id": "haQWun6wpexF",
    "outputId": "ef1df89d-2088-432e-d63a-531e0f732220"
   },
   "outputs": [
    {
     "name": "stdout",
     "output_type": "stream",
     "text": [
      "Train on 80 samples, validate on 20 samples\n",
      "Epoch 1/10\n",
      "80/80 [==============================] - 127s 2s/step - loss: 0.6881 - val_loss: 0.6563\n",
      "\n",
      "Epoch 00001: val_loss improved from inf to 0.65632, saving model to weights_sign_2.hdf5\n",
      "Epoch 2/10\n",
      "80/80 [==============================] - 120s 1s/step - loss: 0.6427 - val_loss: 0.6105\n",
      "\n",
      "Epoch 00002: val_loss improved from 0.65632 to 0.61051, saving model to weights_sign_2.hdf5\n",
      "Epoch 3/10\n",
      "80/80 [==============================] - 120s 2s/step - loss: 0.4847 - val_loss: 0.3926\n",
      "\n",
      "Epoch 00003: val_loss improved from 0.61051 to 0.39256, saving model to weights_sign_2.hdf5\n",
      "Epoch 4/10\n",
      "80/80 [==============================] - 120s 2s/step - loss: 0.3840 - val_loss: 0.3898\n",
      "\n",
      "Epoch 00004: val_loss improved from 0.39256 to 0.38981, saving model to weights_sign_2.hdf5\n",
      "Epoch 5/10\n",
      "80/80 [==============================] - 120s 1s/step - loss: 0.3757 - val_loss: 0.3535\n",
      "\n",
      "Epoch 00005: val_loss improved from 0.38981 to 0.35348, saving model to weights_sign_2.hdf5\n",
      "Epoch 6/10\n",
      "80/80 [==============================] - 121s 2s/step - loss: 1.2171 - val_loss: 2.1222\n",
      "\n",
      "Epoch 00006: val_loss did not improve\n",
      "Epoch 7/10\n",
      "80/80 [==============================] - 120s 1s/step - loss: 2.0580 - val_loss: 2.1222\n",
      "\n",
      "Epoch 00007: val_loss did not improve\n",
      "Epoch 8/10\n",
      "80/80 [==============================] - 120s 2s/step - loss: 2.0580 - val_loss: 2.1222\n",
      "\n",
      "Epoch 00008: val_loss did not improve\n",
      "Epoch 9/10\n",
      "80/80 [==============================] - 120s 2s/step - loss: 2.0580 - val_loss: 2.1222\n",
      "\n",
      "Epoch 00009: val_loss did not improve\n",
      "Epoch 10/10\n",
      "80/80 [==============================] - 120s 2s/step - loss: 2.0580 - val_loss: 2.1222\n",
      "\n",
      "Epoch 00010: val_loss did not improve\n"
     ]
    },
    {
     "data": {
      "text/plain": [
       "<keras.callbacks.History at 0x7fd81a796160>"
      ]
     },
     "execution_count": 15,
     "metadata": {
      "tags": []
     },
     "output_type": "execute_result"
    }
   ],
   "source": [
    "checkpointer = ModelCheckpoint(filepath=\"weights_sign_2.hdf5\", verbose=1, save_best_only=True, save_weights_only=True)\n",
    "\n",
    "autoencoder.fit(X_train, X_train,\n",
    "                epochs=10,\n",
    "                batch_size=20,\n",
    "                shuffle=True,\n",
    "                validation_data=(X_test, X_test),\n",
    "                callbacks=[checkpointer])"
   ]
  },
  {
   "cell_type": "code",
   "execution_count": 9,
   "metadata": {
    "colab": {
     "autoexec": {
      "startup": false,
      "wait_interval": 0
     },
     "base_uri": "https://localhost:8080/",
     "height": 17,
     "output_extras": []
    },
    "colab_type": "code",
    "collapsed": true,
    "executionInfo": {
     "elapsed": 14957,
     "status": "ok",
     "timestamp": 1521798473434,
     "user": {
      "displayName": "",
      "photoUrl": "",
      "userId": ""
     },
     "user_tz": -180
    },
    "id": "5sAK8b1pQIov",
    "outputId": "bdcec8cf-dc21-47d1-b8dd-b208c1462370"
   },
   "outputs": [],
   "source": [
    "encoder = Model(input_img, encoded)\n",
    "encoder_imgs = encoder.predict(data_img)"
   ]
  },
  {
   "cell_type": "code",
   "execution_count": 16,
   "metadata": {
    "colab": {
     "autoexec": {
      "startup": false,
      "wait_interval": 0
     },
     "base_uri": "https://localhost:8080/",
     "height": 34,
     "output_extras": [
      {
       "item_id": 1
      }
     ]
    },
    "colab_type": "code",
    "executionInfo": {
     "elapsed": 2083,
     "status": "ok",
     "timestamp": 1521802818897,
     "user": {
      "displayName": "",
      "photoUrl": "",
      "userId": ""
     },
     "user_tz": -180
    },
    "id": "Ab2YQCIRQOHr",
    "outputId": "eec7a72a-12ee-435b-d447-726abd0a76f6"
   },
   "outputs": [
    {
     "data": {
      "text/plain": [
       "(100, 2)"
      ]
     },
     "execution_count": 16,
     "metadata": {
      "tags": []
     },
     "output_type": "execute_result"
    }
   ],
   "source": [
    "from sklearn.manifold import TSNE\n",
    "X = encoder_imgs\n",
    "X_embedded = TSNE(n_components=2).fit_transform(X)\n",
    "X_embedded.shape"
   ]
  },
  {
   "cell_type": "code",
   "execution_count": 17,
   "metadata": {
    "colab": {
     "autoexec": {
      "startup": false,
      "wait_interval": 0
     },
     "base_uri": "https://localhost:8080/",
     "height": 592,
     "output_extras": [
      {
       "item_id": 1
      }
     ]
    },
    "colab_type": "code",
    "executionInfo": {
     "elapsed": 590,
     "status": "ok",
     "timestamp": 1521802822852,
     "user": {
      "displayName": "",
      "photoUrl": "",
      "userId": ""
     },
     "user_tz": -180
    },
    "id": "Qgff6bsBQr8B",
    "outputId": "b75553d8-085a-40f7-9c2f-b6df18e15bb5"
   },
   "outputs": [
    {
     "data": {
      "image/png": "[encoded data removed]",
      "text/plain": [
       "<matplotlib.figure.Figure at 0x7fd81965dcf8>"
      ]
     },
     "metadata": {
      "tags": []
     },
     "output_type": "display_data"
    }
   ],
   "source": [
    "plt.figure(figsize=(10, 10))\n",
    "plt.scatter(X_embedded[:, 0], X_embedded[:, 1], label='C1')\n",
    "plt.show()"
   ]
  }
 ],
 "metadata": {
  "colab": {
   "collapsed_sections": [
    "0ENMqxq25szn",
    "s6nDq8Nk7aPN"
   ],
   "default_view": {},
   "name": "External data: Drive, Sheets, and Cloud Storage",
   "provenance": [],
   "toc_visible": true,
   "version": "0.3.2",
   "views": {}
  },
  "kernelspec": {
   "display_name": "Python 3",
   "language": "python",
   "name": "python3"
  },
  "language_info": {
   "codemirror_mode": {
    "name": "ipython",
    "version": 3
   },
   "file_extension": ".py",
   "mimetype": "text/x-python",
   "name": "python",
   "nbconvert_exporter": "python",
   "pygments_lexer": "ipython3",
   "version": "3.6.3"
  }
 },
 "nbformat": 4,
 "nbformat_minor": 1
}
