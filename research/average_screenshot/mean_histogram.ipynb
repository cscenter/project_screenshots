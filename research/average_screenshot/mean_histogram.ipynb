{
 "cells": [
  {
   "cell_type": "code",
   "execution_count": 1,
   "metadata": {
    "collapsed": true
   },
   "outputs": [],
   "source": [
    "import cv2\n",
    "import numpy as np\n",
    "from glob import glob"
   ]
  },
  {
   "cell_type": "code",
   "execution_count": 2,
   "metadata": {
    "collapsed": false
   },
   "outputs": [
    {
     "name": "stdout",
     "output_type": "stream",
     "text": [
      "('got', 1712, 'files')\n"
     ]
    }
   ],
   "source": [
    "filenames = [x for x in glob(\"../../data/fullpage_3k/image/*.png\")]\n",
    "print(\"got\", len(filenames), \"files\")"
   ]
  },
  {
   "cell_type": "code",
   "execution_count": 37,
   "metadata": {
    "collapsed": false
   },
   "outputs": [
    {
     "name": "stdout",
     "output_type": "stream",
     "text": [
      "(100, 90)\n"
     ]
    }
   ],
   "source": [
    "histograms = []\n",
    "for filename in filenames[:100]:\n",
    "    img = cv2.imread(filename, cv2.IMREAD_COLOR)\n",
    "    img = cv2.cvtColor(img, cv2.COLOR_BGR2HSV)\n",
    "    hist3 = np.hstack([hist.astype(np.float64) / np.sum(hist) for hist, bins in [np.histogram(img[..., c].ravel(), 30, [0,256]) for c in range(3)]])\n",
    "    histograms.append(hist3)\n",
    "\n",
    "histograms = np.vstack(histograms)\n",
    "print(histograms.shape)"
   ]
  },
  {
   "cell_type": "code",
   "execution_count": 64,
   "metadata": {
    "collapsed": false
   },
   "outputs": [
    {
     "name": "stdout",
     "output_type": "stream",
     "text": [
      "[ 1  2  3  4  5  6  7  8  9 10 11 12 14 15 16 17 18 19 20 21 22 23 24 25\n",
      " 26 27 28 29 31 32 33 34 35 36 37 38 39 40 41 42 43 44 45 46 47 48 49 50\n",
      " 51 52 53 54 55 56 57 58 59 60 61 62 63 64 65 66 67 68 70 71 72 73 74 75\n",
      " 76 77 78 79 80 81 82 83 84 85 86 87 88]\n",
      "0.0006981511199632635\n",
      "0.0008987072112938084\n",
      "0.00020386783693277668\n",
      "7.502265360655262e-05\n",
      "0.000322062107797927\n",
      "0.00029924559143112967\n",
      "0.00014206482740996028\n",
      "5.688621347184334e-05\n",
      "0.0006288687856657852\n",
      "0.00037773266694833535\n",
      "9.132801659105113e-05\n",
      "0.0009563836976929127\n",
      "0.0004349017592136253\n",
      "0.0011754458601133826\n",
      "4.928826274390566e-05\n",
      "0.00017699468603153112\n",
      "0.0005096469114019972\n",
      "0.0002895000712883746\n",
      "0.00020300575663996642\n",
      "0.0010571434265073689\n",
      "0.00046841617215296884\n",
      "0.0003951679274902519\n",
      "5.612259702760886e-05\n",
      "8.315973708163273e-05\n",
      "0.0013894159235915524\n",
      "0.00046003959968171995\n",
      "7.234600808295346e-05\n",
      "0.0025975934951984743\n",
      "0.000637355808160887\n",
      "0.0003184883956274497\n",
      "0.00028568388914523407\n",
      "0.00029976873319501675\n",
      "0.0021957810642692214\n",
      "0.00010791939872770749\n",
      "0.001138069550095639\n",
      "0.0010138826950351813\n",
      "0.0009902535470733078\n",
      "0.0004495270663738703\n",
      "0.0006905934985095745\n",
      "0.0005051520210639764\n",
      "0.00015296572848089455\n",
      "0.00025930297403750917\n",
      "0.0002911850656709034\n",
      "0.00043132553873678726\n",
      "0.00043161393269662747\n",
      "0.0005678682782126389\n",
      "0.00016743857147106698\n",
      "8.414092106281698e-05\n",
      "0.00012797607467225487\n",
      "0.0004360254994305675\n",
      "0.0003018546530625865\n",
      "0.0010516041417074993\n",
      "0.0003079973174078114\n",
      "9.045022508374288e-05\n",
      "0.0003988816594463286\n",
      "0.0011612798889539112\n",
      "0.00011903483439777414\n",
      "0.00010862605854632381\n",
      "0.00014260339137838393\n",
      "8.345479451390889e-05\n",
      "0.00013254786749541226\n",
      "0.0004535479430450153\n",
      "0.00011553671332504365\n",
      "0.0002632756066684618\n",
      "0.00011446137998025044\n",
      "0.0001935629713804129\n",
      "0.00014550054187590738\n",
      "0.0004032521283645\n",
      "0.0005560635326675561\n",
      "0.0011183593505163728\n",
      "0.0009880051906868649\n",
      "0.00012680308806609992\n",
      "0.0003955900012088899\n",
      "0.0004155233515332987\n",
      "0.0005658699343872611\n",
      "0.0002707346485627036\n",
      "0.00011992296215041591\n",
      "0.00013447872805914349\n",
      "0.00020990084286031727\n",
      "0.00014925123603048271\n",
      "0.00014652679663012757\n",
      "0.0003783808524361908\n",
      "0.0014511584215503642\n",
      "0.00028964636270129316\n",
      "0.00014958912394707945\n",
      "0.0005473087294750183\n",
      "0.00010767238631857233\n",
      "0.0003158828326438025\n",
      "0.00039872333012060405\n",
      "7.080795349498539e-05\n",
      "0.0002014175150248089\n",
      "0.0006660095171412\n",
      "0.00038904154935064637\n",
      "8.155975175728623e-05\n",
      "0.00033400809486925194\n",
      "0.0005034585230935956\n",
      "0.00039506115070427723\n",
      "0.0002910302175094659\n",
      "0.00032071651958083454\n",
      "0.0007758967607703132\n"
     ]
    }
   ],
   "source": [
    "avg_hist = np.median(histograms, axis=0)\n",
    "diff = np.abs(histograms - np.tile(avg_hist, (histograms.shape[0], 1)))\n",
    "avg_diff = np.median(diff, axis=0)\n",
    "percentile = 95\n",
    "not_features = np.where(avg_diff > np.percentile(avg_diff, percentile) + 1e-6)[0]\n",
    "print(np.where(avg_diff <= np.percentile(avg_diff, percentile) + 1e-6)[0])\n",
    "diff[:, not_features] = 0\n",
    "for i, diff_row in enumerate(diff):\n",
    "    dist = np.dot(diff_row, diff_row)\n",
    "    print(dist)"
   ]
  },
  {
   "cell_type": "code",
   "execution_count": 65,
   "metadata": {
    "collapsed": false
   },
   "outputs": [
    {
     "name": "stdout",
     "output_type": "stream",
     "text": [
      "0.007624557414081951\n"
     ]
    }
   ],
   "source": [
    "img = 255 * np.ones((500, 500, 3), np.uint8)\n",
    "img = cv2.cvtColor(img, cv2.COLOR_BGR2HSV)\n",
    "hist3 = np.hstack([hist.astype(np.float64) / np.sum(hist) for hist, bins in [np.histogram(img[..., c].ravel(), 30, [0,256]) for c in range(3)]])\n",
    "diff = hist3 - avg_hist\n",
    "diff[not_features] = 0\n",
    "dist = np.dot(diff, diff)\n",
    "print(dist)"
   ]
  }
 ],
 "metadata": {
  "kernelspec": {
   "display_name": "Python 2",
   "language": "python",
   "name": "python2"
  },
  "language_info": {
   "codemirror_mode": {
    "name": "ipython",
    "version": 2
   },
   "file_extension": ".py",
   "mimetype": "text/x-python",
   "name": "python",
   "nbconvert_exporter": "python",
   "pygments_lexer": "ipython2",
   "version": "2.7.12"
  }
 },
 "nbformat": 4,
 "nbformat_minor": 0
}
